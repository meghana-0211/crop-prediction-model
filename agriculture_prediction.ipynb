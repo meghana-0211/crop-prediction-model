{
  "nbformat": 4,
  "nbformat_minor": 0,
  "metadata": {
    "colab": {
      "provenance": [],
      "mount_file_id": "1m0_p0Mj66fCRBMvyxFMNjTxAh8UlJ2yT",
      "authorship_tag": "ABX9TyOjjNisb46Gloc4ZtkwuPri",
      "include_colab_link": true
    },
    "kernelspec": {
      "name": "python3",
      "display_name": "Python 3"
    },
    "language_info": {
      "name": "python"
    }
  },
  "cells": [
    {
      "cell_type": "markdown",
      "metadata": {
        "id": "view-in-github",
        "colab_type": "text"
      },
      "source": [
        "<a href=\"https://colab.research.google.com/github/meghana-0211/crop-prediction-model/blob/main/agriculture_prediction.ipynb\" target=\"_parent\"><img src=\"https://colab.research.google.com/assets/colab-badge.svg\" alt=\"Open In Colab\"/></a>"
      ]
    },
    {
      "cell_type": "code",
      "execution_count": 3,
      "metadata": {
        "colab": {
          "base_uri": "https://localhost:8080/"
        },
        "id": "4BcMe_Fa8QjO",
        "outputId": "31f605f0-de04-4105-e425-f7d0b4aa676d"
      },
      "outputs": [
        {
          "output_type": "stream",
          "name": "stdout",
          "text": [
            "Predicted Crop (without explicit light intensity): jute\n",
            "Predicted Crop (with explicit light intensity): jute\n"
          ]
        }
      ],
      "source": [
        "import pandas as pd\n",
        "import numpy as np\n",
        "from sklearn.preprocessing import MinMaxScaler\n",
        "from sklearn.ensemble import GradientBoostingClassifier\n",
        "\n",
        "df = pd.read_csv(\"/content/drive/MyDrive/Crop_recommendation.csv\")\n",
        "\n",
        "def create_prediction_model(df, include_light=True):\n",
        "    \"\"\"\n",
        "    Creates and trains the prediction model with the option to include light intensity\n",
        "    \"\"\"\n",
        "    # Prepare data\n",
        "    df['target'] = df.label.astype('category').cat.codes\n",
        "    base_features = ['N', 'P', 'K', 'temperature', 'humidity', 'ph', 'rainfall']\n",
        "\n",
        "    # Add synthetic light intensity feature if requested\n",
        "    if include_light:\n",
        "        # Create synthetic light intensity based on temperature and humidity\n",
        "        # This is a simplified approximation for demonstration\n",
        "        df['light_intensity'] = (df['temperature'] * 0.7 + (100 - df['humidity']) * 0.3)\n",
        "        base_features.append('light_intensity')\n",
        "\n",
        "    X = df[base_features]\n",
        "    y = df.target\n",
        "\n",
        "    # Initialize and fit scaler and model\n",
        "    scaler = MinMaxScaler()\n",
        "    X_scaled = scaler.fit_transform(X)\n",
        "    model = GradientBoostingClassifier()\n",
        "    model.fit(X_scaled, y)\n",
        "\n",
        "    return model, scaler, base_features\n",
        "\n",
        "def predict_crop(temp, humidity, rainfall, light_intensity=None):\n",
        "    \"\"\"\n",
        "    Predicts crop based on given environmental parameters\n",
        "\n",
        "    Parameters:\n",
        "    temp (float): Temperature in Celsius\n",
        "    humidity (float): Humidity percentage\n",
        "    rainfall (float): Rainfall in mm\n",
        "    light_intensity (float, optional): Light intensity value\n",
        "\n",
        "    Returns:\n",
        "    str: Predicted crop name\n",
        "    \"\"\"\n",
        "    # Create input dataframe\n",
        "    input_data = pd.DataFrame([[temp, humidity, rainfall]],\n",
        "                            columns=['temperature', 'humidity', 'rainfall'])\n",
        "\n",
        "    # Add default values for N, P, K, ph using dataset means\n",
        "    input_data['N'] = df['N'].mean()\n",
        "    input_data['P'] = df['P'].mean()\n",
        "    input_data['K'] = df['K'].mean()\n",
        "    input_data['ph'] = df['ph'].mean()\n",
        "\n",
        "    # Add light intensity if provided, otherwise calculate it\n",
        "    if light_intensity is not None:\n",
        "        input_data['light_intensity'] = light_intensity\n",
        "    else:\n",
        "        # Calculate synthetic light intensity if not provided\n",
        "        input_data['light_intensity'] = (temp * 0.7 + (100 - humidity) * 0.3)\n",
        "\n",
        "    # Ensure columns are in the same order as training data\n",
        "    input_data = input_data[base_features]\n",
        "\n",
        "    # Scale the input data\n",
        "    input_scaled = scaler.transform(input_data)\n",
        "\n",
        "    # Predict crop label\n",
        "    predicted_label = model.predict(input_scaled)[0]\n",
        "\n",
        "    # Map the label number to crop name\n",
        "    crop_name = df[df['target'] == predicted_label]['label'].iloc[0]\n",
        "\n",
        "    return crop_name\n",
        "\n",
        "# Initialize the model and scaler with the dataset\n",
        "model, scaler, base_features = create_prediction_model(df)\n",
        "\n",
        "# Example usage:\n",
        "print(\"Predicted Crop (without explicit light intensity):\",\n",
        "      predict_crop(temp=10, humidity=55, rainfall=10))\n",
        "\n",
        "print(\"Predicted Crop (with explicit light intensity):\",\n",
        "      predict_crop(temp=25, humidity=80, rainfall=100, light_intensity=750))"
      ]
    },
    {
      "cell_type": "code",
      "source": [
        "print(\"Predicted Crop (without explicit light intensity):\",\n",
        "      predict_crop(temp=60, humidity=40, rainfall=150))"
      ],
      "metadata": {
        "colab": {
          "base_uri": "https://localhost:8080/"
        },
        "id": "l_uNu9awJn4o",
        "outputId": "9fd5aa9a-936f-4f10-b7be-fa11b1ff7e1c"
      },
      "execution_count": 13,
      "outputs": [
        {
          "output_type": "stream",
          "name": "stdout",
          "text": [
            "Predicted Crop (without explicit light intensity): pigeonpeas\n"
          ]
        }
      ]
    },
    {
      "cell_type": "code",
      "source": [
        "print(\"Predicted Crop (with explicit light intensity):\",\n",
        "      predict_crop(temp=10, humidity=55, rainfall=150, light_intensity=150))"
      ],
      "metadata": {
        "colab": {
          "base_uri": "https://localhost:8080/"
        },
        "id": "_N943PetJtKI",
        "outputId": "eb38a337-884a-4ac3-d4c3-4161fccb642e"
      },
      "execution_count": 14,
      "outputs": [
        {
          "output_type": "stream",
          "name": "stdout",
          "text": [
            "Predicted Crop (with explicit light intensity): jute\n"
          ]
        }
      ]
    },
    {
      "cell_type": "code",
      "source": [
        "from google.colab import drive\n",
        "drive.mount('/content/drive')"
      ],
      "metadata": {
        "colab": {
          "base_uri": "https://localhost:8080/"
        },
        "id": "UEPMCBnN-9Rp",
        "outputId": "dfa38124-0801-4818-c7db-7bd1be4a74c3"
      },
      "execution_count": 5,
      "outputs": [
        {
          "output_type": "stream",
          "name": "stdout",
          "text": [
            "Drive already mounted at /content/drive; to attempt to forcibly remount, call drive.mount(\"/content/drive\", force_remount=True).\n"
          ]
        }
      ]
    },
    {
      "cell_type": "code",
      "source": [],
      "metadata": {
        "id": "5N9h6FRpJqLL"
      },
      "execution_count": null,
      "outputs": []
    }
  ]
}