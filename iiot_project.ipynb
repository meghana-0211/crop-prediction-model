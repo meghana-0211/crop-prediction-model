{
  "nbformat": 4,
  "nbformat_minor": 0,
  "metadata": {
    "colab": {
      "provenance": [],
      "include_colab_link": true
    },
    "kernelspec": {
      "name": "python3",
      "display_name": "Python 3"
    },
    "language_info": {
      "name": "python"
    }
  },
  "cells": [
    {
      "cell_type": "markdown",
      "metadata": {
        "id": "view-in-github",
        "colab_type": "text"
      },
      "source": [
        "<a href=\"https://colab.research.google.com/github/meghana-0211/crop-prediction-model/blob/main/iiot_project.ipynb\" target=\"_parent\"><img src=\"https://colab.research.google.com/assets/colab-badge.svg\" alt=\"Open In Colab\"/></a>"
      ]
    },
    {
      "cell_type": "code",
      "source": [
        "import pandas as pd\n",
        "import numpy as np\n",
        "from sklearn.model_selection import train_test_split\n",
        "from sklearn.preprocessing import MinMaxScaler\n",
        "from sklearn.neighbors import KNeighborsClassifier\n",
        "from sklearn.svm import SVC\n",
        "from sklearn.ensemble import RandomForestClassifier, GradientBoostingClassifier\n",
        "from sklearn.model_selection import GridSearchCV\n",
        "\n",
        "# Load the dataset\n",
        "df = pd.read_csv('Crop_recommendation.csv')\n",
        "\n",
        "# Prepare features and target variable\n",
        "df['target'] = df.label.astype('category').cat.codes\n",
        "y = df['target']\n",
        "# Only consider temperature, humidity, and rainfall as features\n",
        "X = df[['temperature', 'humidity', 'rainfall']]\n",
        "\n",
        "# Split the data into training and test sets\n",
        "X_train, X_test, y_train, y_test = train_test_split(X, y, random_state=1)\n",
        "\n",
        "# Scale the data\n",
        "scaler = MinMaxScaler()\n",
        "X_train_scaled = scaler.fit_transform(X_train)\n",
        "X_test_scaled = scaler.transform(X_test)\n",
        "\n",
        "# K-Nearest Neighbors\n",
        "knn = KNeighborsClassifier()\n",
        "knn.fit(X_train_scaled, y_train)\n",
        "\n",
        "# Finding optimal k for KNN\n",
        "k_range = range(1, 11)\n",
        "scores = []\n",
        "for k in k_range:\n",
        "    knn = KNeighborsClassifier(n_neighbors=k)\n",
        "    knn.fit(X_train_scaled, y_train)\n",
        "    scores.append(knn.score(X_test_scaled, y_test))\n",
        "\n",
        "# Support Vector Machine with various kernels\n",
        "svc_linear = SVC(kernel='linear').fit(X_train_scaled, y_train)\n",
        "svc_poly_rbf = SVC(kernel='rbf').fit(X_train_scaled, y_train)\n",
        "svc_poly = SVC(kernel='poly').fit(X_train_scaled, y_train)\n",
        "\n",
        "# Hyperparameter tuning for SVM with linear kernel\n",
        "parameters = {'C': np.logspace(-3, 2, 6).tolist(), 'gamma': np.logspace(-3, 2, 6).tolist()}\n",
        "model = GridSearchCV(estimator=SVC(kernel=\"linear\"), param_grid=parameters, n_jobs=-1, cv=4)\n",
        "model.fit(X_train, y_train)\n",
        "\n",
        "# Random Forest Classifier\n",
        "clf = RandomForestClassifier(max_depth=4, n_estimators=100, random_state=42).fit(X_train, y_train)\n",
        "\n",
        "# Gradient Boosting Classifier\n",
        "grad = GradientBoostingClassifier().fit(X_train, y_train)\n",
        "\n",
        "# Print the accuracy of the Gradient Boosting model\n",
        "print('Gradient Boosting accuracy: {:.2f}%'.format(grad.score(X_test, y_test) * 100))\n"
      ],
      "metadata": {
        "colab": {
          "base_uri": "https://localhost:8080/"
        },
        "id": "IPtYE6eYGoaV",
        "outputId": "87d50100-d565-4ec9-d9d2-f4a0f0ffb6da"
      },
      "execution_count": null,
      "outputs": [
        {
          "output_type": "stream",
          "name": "stdout",
          "text": [
            "Gradient Boosting accuracy: 92.55%\n"
          ]
        }
      ]
    },
    {
      "cell_type": "code",
      "source": [
        "def predict_crop(temp, humidity, rainfall):\n",
        "    # Prepare input features\n",
        "    input_data = pd.DataFrame([[temp, humidity, rainfall]],\n",
        "                              columns=['temperature', 'humidity', 'rainfall'])\n",
        "\n",
        "    # Scale the input data\n",
        "    input_scaled = scaler.transform(input_data)\n",
        "\n",
        "    # Predict crop label using the Gradient Boosting model\n",
        "    predicted_label = grad.predict(input_scaled)[0]\n",
        "\n",
        "    # Map the label number to crop name\n",
        "    crop_name = df[df['target'] == predicted_label]['label'].iloc[0]\n",
        "\n",
        "    return crop_name"
      ],
      "metadata": {
        "id": "YXkmdo4DHfVK"
      },
      "execution_count": null,
      "outputs": []
    },
    {
      "cell_type": "code",
      "source": [
        "print(\"Predicted Crop:\", predict_crop(25, 40, 240))"
      ],
      "metadata": {
        "colab": {
          "base_uri": "https://localhost:8080/"
        },
        "id": "QihhgLmNJDrC",
        "outputId": "d37fdc06-0be8-4d21-c0b2-d57fd8d71552"
      },
      "execution_count": null,
      "outputs": [
        {
          "output_type": "stream",
          "name": "stdout",
          "text": [
            "Predicted Crop: muskmelon\n"
          ]
        },
        {
          "output_type": "stream",
          "name": "stderr",
          "text": [
            "/usr/local/lib/python3.10/dist-packages/sklearn/base.py:493: UserWarning: X does not have valid feature names, but GradientBoostingClassifier was fitted with feature names\n",
            "  warnings.warn(\n"
          ]
        }
      ]
    }
  ]
}